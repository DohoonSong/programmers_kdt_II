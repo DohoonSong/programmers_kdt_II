{
 "cells": [
  {
   "cell_type": "markdown",
   "metadata": {},
   "source": [
    "# 4. Exploratory Data Analysis\n",
    "\n",
    "**탐색적 데이터 분석을 통해 데이터를 통달해봅시다.** with [Titanic Data](https://www.kaggle.com/c/titanic)\n",
    "\n",
    "0. 라이브러리 준비\n",
    "1. 분석의 목적과 변수 확인\n",
    "2. 데이터 전체적으로 살펴보기\n",
    "3. 데이터의 개별 속성 파악하기"
   ]
  },
  {
   "cell_type": "markdown",
   "metadata": {},
   "source": [
    "## 0. 라이브러리 준비"
   ]
  },
  {
   "cell_type": "code",
   "execution_count": 1,
   "metadata": {},
   "outputs": [],
   "source": [
    "## 라이브러리 불러오기\n",
    "\n",
    "import numpy as np\n",
    "import pandas as pd\n",
    "import matplotlib.pyplot as plt\n",
    "import seaborn as sns\n",
    "\n",
    "%matplotlib inline"
   ]
  },
  {
   "cell_type": "code",
   "execution_count": 2,
   "metadata": {},
   "outputs": [],
   "source": [
    "# 동일경로의 데이터 불러오기\n",
    "\n",
    "titanic_df = pd.read_csv(\"./train.csv\")"
   ]
  },
  {
   "cell_type": "markdown",
   "metadata": {},
   "source": [
    "## 1. 분석의 목적과 변수 확인"
   ]
  },
  {
   "cell_type": "code",
   "execution_count": 3,
   "metadata": {},
   "outputs": [
    {
     "data": {
      "text/html": [
       "<div>\n",
       "<style scoped>\n",
       "    .dataframe tbody tr th:only-of-type {\n",
       "        vertical-align: middle;\n",
       "    }\n",
       "\n",
       "    .dataframe tbody tr th {\n",
       "        vertical-align: top;\n",
       "    }\n",
       "\n",
       "    .dataframe thead th {\n",
       "        text-align: right;\n",
       "    }\n",
       "</style>\n",
       "<table border=\"1\" class=\"dataframe\">\n",
       "  <thead>\n",
       "    <tr style=\"text-align: right;\">\n",
       "      <th></th>\n",
       "      <th>PassengerId</th>\n",
       "      <th>Survived</th>\n",
       "      <th>Pclass</th>\n",
       "      <th>Name</th>\n",
       "      <th>Sex</th>\n",
       "      <th>Age</th>\n",
       "      <th>SibSp</th>\n",
       "      <th>Parch</th>\n",
       "      <th>Ticket</th>\n",
       "      <th>Fare</th>\n",
       "      <th>Cabin</th>\n",
       "      <th>Embarked</th>\n",
       "    </tr>\n",
       "  </thead>\n",
       "  <tbody>\n",
       "    <tr>\n",
       "      <th>0</th>\n",
       "      <td>1</td>\n",
       "      <td>0</td>\n",
       "      <td>3</td>\n",
       "      <td>Braund, Mr. Owen Harris</td>\n",
       "      <td>male</td>\n",
       "      <td>22.0</td>\n",
       "      <td>1</td>\n",
       "      <td>0</td>\n",
       "      <td>A/5 21171</td>\n",
       "      <td>7.2500</td>\n",
       "      <td>NaN</td>\n",
       "      <td>S</td>\n",
       "    </tr>\n",
       "    <tr>\n",
       "      <th>1</th>\n",
       "      <td>2</td>\n",
       "      <td>1</td>\n",
       "      <td>1</td>\n",
       "      <td>Cumings, Mrs. John Bradley (Florence Briggs Th...</td>\n",
       "      <td>female</td>\n",
       "      <td>38.0</td>\n",
       "      <td>1</td>\n",
       "      <td>0</td>\n",
       "      <td>PC 17599</td>\n",
       "      <td>71.2833</td>\n",
       "      <td>C85</td>\n",
       "      <td>C</td>\n",
       "    </tr>\n",
       "    <tr>\n",
       "      <th>2</th>\n",
       "      <td>3</td>\n",
       "      <td>1</td>\n",
       "      <td>3</td>\n",
       "      <td>Heikkinen, Miss. Laina</td>\n",
       "      <td>female</td>\n",
       "      <td>26.0</td>\n",
       "      <td>0</td>\n",
       "      <td>0</td>\n",
       "      <td>STON/O2. 3101282</td>\n",
       "      <td>7.9250</td>\n",
       "      <td>NaN</td>\n",
       "      <td>S</td>\n",
       "    </tr>\n",
       "    <tr>\n",
       "      <th>3</th>\n",
       "      <td>4</td>\n",
       "      <td>1</td>\n",
       "      <td>1</td>\n",
       "      <td>Futrelle, Mrs. Jacques Heath (Lily May Peel)</td>\n",
       "      <td>female</td>\n",
       "      <td>35.0</td>\n",
       "      <td>1</td>\n",
       "      <td>0</td>\n",
       "      <td>113803</td>\n",
       "      <td>53.1000</td>\n",
       "      <td>C123</td>\n",
       "      <td>S</td>\n",
       "    </tr>\n",
       "    <tr>\n",
       "      <th>4</th>\n",
       "      <td>5</td>\n",
       "      <td>0</td>\n",
       "      <td>3</td>\n",
       "      <td>Allen, Mr. William Henry</td>\n",
       "      <td>male</td>\n",
       "      <td>35.0</td>\n",
       "      <td>0</td>\n",
       "      <td>0</td>\n",
       "      <td>373450</td>\n",
       "      <td>8.0500</td>\n",
       "      <td>NaN</td>\n",
       "      <td>S</td>\n",
       "    </tr>\n",
       "  </tbody>\n",
       "</table>\n",
       "</div>"
      ],
      "text/plain": [
       "   PassengerId  Survived  Pclass  \\\n",
       "0            1         0       3   \n",
       "1            2         1       1   \n",
       "2            3         1       3   \n",
       "3            4         1       1   \n",
       "4            5         0       3   \n",
       "\n",
       "                                                Name     Sex   Age  SibSp  \\\n",
       "0                            Braund, Mr. Owen Harris    male  22.0      1   \n",
       "1  Cumings, Mrs. John Bradley (Florence Briggs Th...  female  38.0      1   \n",
       "2                             Heikkinen, Miss. Laina  female  26.0      0   \n",
       "3       Futrelle, Mrs. Jacques Heath (Lily May Peel)  female  35.0      1   \n",
       "4                           Allen, Mr. William Henry    male  35.0      0   \n",
       "\n",
       "   Parch            Ticket     Fare Cabin Embarked  \n",
       "0      0         A/5 21171   7.2500   NaN        S  \n",
       "1      0          PC 17599  71.2833   C85        C  \n",
       "2      0  STON/O2. 3101282   7.9250   NaN        S  \n",
       "3      0            113803  53.1000  C123        S  \n",
       "4      0            373450   8.0500   NaN        S  "
      ]
     },
     "execution_count": 3,
     "metadata": {},
     "output_type": "execute_result"
    }
   ],
   "source": [
    "# 상위 5개 데이터 확인하기\n",
    "\n",
    "titanic_df.head(5)"
   ]
  },
  {
   "cell_type": "code",
   "execution_count": 4,
   "metadata": {},
   "outputs": [
    {
     "data": {
      "text/plain": [
       "PassengerId      int64\n",
       "Survived         int64\n",
       "Pclass           int64\n",
       "Name            object\n",
       "Sex             object\n",
       "Age            float64\n",
       "SibSp            int64\n",
       "Parch            int64\n",
       "Ticket          object\n",
       "Fare           float64\n",
       "Cabin           object\n",
       "Embarked        object\n",
       "dtype: object"
      ]
     },
     "execution_count": 4,
     "metadata": {},
     "output_type": "execute_result"
    }
   ],
   "source": [
    "# 각 column의 type 확인하기\n",
    "\n",
    "titanic_df.dtypes"
   ]
  },
  {
   "cell_type": "markdown",
   "metadata": {},
   "source": [
    "## 2. 데이터 전체적으로 살펴보기"
   ]
  },
  {
   "cell_type": "code",
   "execution_count": 5,
   "metadata": {},
   "outputs": [
    {
     "data": {
      "text/html": [
       "<div>\n",
       "<style scoped>\n",
       "    .dataframe tbody tr th:only-of-type {\n",
       "        vertical-align: middle;\n",
       "    }\n",
       "\n",
       "    .dataframe tbody tr th {\n",
       "        vertical-align: top;\n",
       "    }\n",
       "\n",
       "    .dataframe thead th {\n",
       "        text-align: right;\n",
       "    }\n",
       "</style>\n",
       "<table border=\"1\" class=\"dataframe\">\n",
       "  <thead>\n",
       "    <tr style=\"text-align: right;\">\n",
       "      <th></th>\n",
       "      <th>PassengerId</th>\n",
       "      <th>Survived</th>\n",
       "      <th>Pclass</th>\n",
       "      <th>Age</th>\n",
       "      <th>SibSp</th>\n",
       "      <th>Parch</th>\n",
       "      <th>Fare</th>\n",
       "    </tr>\n",
       "  </thead>\n",
       "  <tbody>\n",
       "    <tr>\n",
       "      <th>count</th>\n",
       "      <td>891.000000</td>\n",
       "      <td>891.000000</td>\n",
       "      <td>891.000000</td>\n",
       "      <td>714.000000</td>\n",
       "      <td>891.000000</td>\n",
       "      <td>891.000000</td>\n",
       "      <td>891.000000</td>\n",
       "    </tr>\n",
       "    <tr>\n",
       "      <th>mean</th>\n",
       "      <td>446.000000</td>\n",
       "      <td>0.383838</td>\n",
       "      <td>2.308642</td>\n",
       "      <td>29.699118</td>\n",
       "      <td>0.523008</td>\n",
       "      <td>0.381594</td>\n",
       "      <td>32.204208</td>\n",
       "    </tr>\n",
       "    <tr>\n",
       "      <th>std</th>\n",
       "      <td>257.353842</td>\n",
       "      <td>0.486592</td>\n",
       "      <td>0.836071</td>\n",
       "      <td>14.526497</td>\n",
       "      <td>1.102743</td>\n",
       "      <td>0.806057</td>\n",
       "      <td>49.693429</td>\n",
       "    </tr>\n",
       "    <tr>\n",
       "      <th>min</th>\n",
       "      <td>1.000000</td>\n",
       "      <td>0.000000</td>\n",
       "      <td>1.000000</td>\n",
       "      <td>0.420000</td>\n",
       "      <td>0.000000</td>\n",
       "      <td>0.000000</td>\n",
       "      <td>0.000000</td>\n",
       "    </tr>\n",
       "    <tr>\n",
       "      <th>25%</th>\n",
       "      <td>223.500000</td>\n",
       "      <td>0.000000</td>\n",
       "      <td>2.000000</td>\n",
       "      <td>20.125000</td>\n",
       "      <td>0.000000</td>\n",
       "      <td>0.000000</td>\n",
       "      <td>7.910400</td>\n",
       "    </tr>\n",
       "    <tr>\n",
       "      <th>50%</th>\n",
       "      <td>446.000000</td>\n",
       "      <td>0.000000</td>\n",
       "      <td>3.000000</td>\n",
       "      <td>28.000000</td>\n",
       "      <td>0.000000</td>\n",
       "      <td>0.000000</td>\n",
       "      <td>14.454200</td>\n",
       "    </tr>\n",
       "    <tr>\n",
       "      <th>75%</th>\n",
       "      <td>668.500000</td>\n",
       "      <td>1.000000</td>\n",
       "      <td>3.000000</td>\n",
       "      <td>38.000000</td>\n",
       "      <td>1.000000</td>\n",
       "      <td>0.000000</td>\n",
       "      <td>31.000000</td>\n",
       "    </tr>\n",
       "    <tr>\n",
       "      <th>max</th>\n",
       "      <td>891.000000</td>\n",
       "      <td>1.000000</td>\n",
       "      <td>3.000000</td>\n",
       "      <td>80.000000</td>\n",
       "      <td>8.000000</td>\n",
       "      <td>6.000000</td>\n",
       "      <td>512.329200</td>\n",
       "    </tr>\n",
       "  </tbody>\n",
       "</table>\n",
       "</div>"
      ],
      "text/plain": [
       "       PassengerId    Survived      Pclass         Age       SibSp  \\\n",
       "count   891.000000  891.000000  891.000000  714.000000  891.000000   \n",
       "mean    446.000000    0.383838    2.308642   29.699118    0.523008   \n",
       "std     257.353842    0.486592    0.836071   14.526497    1.102743   \n",
       "min       1.000000    0.000000    1.000000    0.420000    0.000000   \n",
       "25%     223.500000    0.000000    2.000000   20.125000    0.000000   \n",
       "50%     446.000000    0.000000    3.000000   28.000000    0.000000   \n",
       "75%     668.500000    1.000000    3.000000   38.000000    1.000000   \n",
       "max     891.000000    1.000000    3.000000   80.000000    8.000000   \n",
       "\n",
       "            Parch        Fare  \n",
       "count  891.000000  891.000000  \n",
       "mean     0.381594   32.204208  \n",
       "std      0.806057   49.693429  \n",
       "min      0.000000    0.000000  \n",
       "25%      0.000000    7.910400  \n",
       "50%      0.000000   14.454200  \n",
       "75%      0.000000   31.000000  \n",
       "max      6.000000  512.329200  "
      ]
     },
     "execution_count": 5,
     "metadata": {},
     "output_type": "execute_result"
    }
   ],
   "source": [
    "## 데이터 전체 정보를 획득하기\n",
    "\n",
    "titanic_df.describe() # 수치형 데이터에 대한 요약만 제공. 여기서는 int64만"
   ]
  },
  {
   "cell_type": "code",
   "execution_count": 6,
   "metadata": {
    "scrolled": true
   },
   "outputs": [
    {
     "data": {
      "text/html": [
       "<div>\n",
       "<style scoped>\n",
       "    .dataframe tbody tr th:only-of-type {\n",
       "        vertical-align: middle;\n",
       "    }\n",
       "\n",
       "    .dataframe tbody tr th {\n",
       "        vertical-align: top;\n",
       "    }\n",
       "\n",
       "    .dataframe thead th {\n",
       "        text-align: right;\n",
       "    }\n",
       "</style>\n",
       "<table border=\"1\" class=\"dataframe\">\n",
       "  <thead>\n",
       "    <tr style=\"text-align: right;\">\n",
       "      <th></th>\n",
       "      <th>PassengerId</th>\n",
       "      <th>Survived</th>\n",
       "      <th>Pclass</th>\n",
       "      <th>Age</th>\n",
       "      <th>SibSp</th>\n",
       "      <th>Parch</th>\n",
       "      <th>Fare</th>\n",
       "    </tr>\n",
       "  </thead>\n",
       "  <tbody>\n",
       "    <tr>\n",
       "      <th>PassengerId</th>\n",
       "      <td>1.000000</td>\n",
       "      <td>-0.005007</td>\n",
       "      <td>-0.035144</td>\n",
       "      <td>0.036847</td>\n",
       "      <td>-0.057527</td>\n",
       "      <td>-0.001652</td>\n",
       "      <td>0.012658</td>\n",
       "    </tr>\n",
       "    <tr>\n",
       "      <th>Survived</th>\n",
       "      <td>-0.005007</td>\n",
       "      <td>1.000000</td>\n",
       "      <td>-0.338481</td>\n",
       "      <td>-0.077221</td>\n",
       "      <td>-0.035322</td>\n",
       "      <td>0.081629</td>\n",
       "      <td>0.257307</td>\n",
       "    </tr>\n",
       "    <tr>\n",
       "      <th>Pclass</th>\n",
       "      <td>-0.035144</td>\n",
       "      <td>-0.338481</td>\n",
       "      <td>1.000000</td>\n",
       "      <td>-0.369226</td>\n",
       "      <td>0.083081</td>\n",
       "      <td>0.018443</td>\n",
       "      <td>-0.549500</td>\n",
       "    </tr>\n",
       "    <tr>\n",
       "      <th>Age</th>\n",
       "      <td>0.036847</td>\n",
       "      <td>-0.077221</td>\n",
       "      <td>-0.369226</td>\n",
       "      <td>1.000000</td>\n",
       "      <td>-0.308247</td>\n",
       "      <td>-0.189119</td>\n",
       "      <td>0.096067</td>\n",
       "    </tr>\n",
       "    <tr>\n",
       "      <th>SibSp</th>\n",
       "      <td>-0.057527</td>\n",
       "      <td>-0.035322</td>\n",
       "      <td>0.083081</td>\n",
       "      <td>-0.308247</td>\n",
       "      <td>1.000000</td>\n",
       "      <td>0.414838</td>\n",
       "      <td>0.159651</td>\n",
       "    </tr>\n",
       "    <tr>\n",
       "      <th>Parch</th>\n",
       "      <td>-0.001652</td>\n",
       "      <td>0.081629</td>\n",
       "      <td>0.018443</td>\n",
       "      <td>-0.189119</td>\n",
       "      <td>0.414838</td>\n",
       "      <td>1.000000</td>\n",
       "      <td>0.216225</td>\n",
       "    </tr>\n",
       "    <tr>\n",
       "      <th>Fare</th>\n",
       "      <td>0.012658</td>\n",
       "      <td>0.257307</td>\n",
       "      <td>-0.549500</td>\n",
       "      <td>0.096067</td>\n",
       "      <td>0.159651</td>\n",
       "      <td>0.216225</td>\n",
       "      <td>1.000000</td>\n",
       "    </tr>\n",
       "  </tbody>\n",
       "</table>\n",
       "</div>"
      ],
      "text/plain": [
       "             PassengerId  Survived    Pclass       Age     SibSp     Parch  \\\n",
       "PassengerId     1.000000 -0.005007 -0.035144  0.036847 -0.057527 -0.001652   \n",
       "Survived       -0.005007  1.000000 -0.338481 -0.077221 -0.035322  0.081629   \n",
       "Pclass         -0.035144 -0.338481  1.000000 -0.369226  0.083081  0.018443   \n",
       "Age             0.036847 -0.077221 -0.369226  1.000000 -0.308247 -0.189119   \n",
       "SibSp          -0.057527 -0.035322  0.083081 -0.308247  1.000000  0.414838   \n",
       "Parch          -0.001652  0.081629  0.018443 -0.189119  0.414838  1.000000   \n",
       "Fare            0.012658  0.257307 -0.549500  0.096067  0.159651  0.216225   \n",
       "\n",
       "                 Fare  \n",
       "PassengerId  0.012658  \n",
       "Survived     0.257307  \n",
       "Pclass      -0.549500  \n",
       "Age          0.096067  \n",
       "SibSp        0.159651  \n",
       "Parch        0.216225  \n",
       "Fare         1.000000  "
      ]
     },
     "execution_count": 6,
     "metadata": {},
     "output_type": "execute_result"
    }
   ],
   "source": [
    "## 상관계수 확인\n",
    "\n",
    "titanic_df.corr() # correlation은 Causation이 아니다\n",
    "\n",
    "# 상관성 : A up, B up, ... 같은 경향성\n",
    "# 인과성 : A -> B 같은 종속성"
   ]
  },
  {
   "cell_type": "code",
   "execution_count": 8,
   "metadata": {},
   "outputs": [
    {
     "data": {
      "text/plain": [
       "PassengerId      0\n",
       "Survived         0\n",
       "Pclass           0\n",
       "Name             0\n",
       "Sex              0\n",
       "Age            177\n",
       "SibSp            0\n",
       "Parch            0\n",
       "Ticket           0\n",
       "Fare             0\n",
       "Cabin          687\n",
       "Embarked         2\n",
       "dtype: int64"
      ]
     },
     "execution_count": 8,
     "metadata": {},
     "output_type": "execute_result"
    }
   ],
   "source": [
    "## 결측치 확인\n",
    "\n",
    "titanic_df.isnull().sum()\n",
    "# Age, Cabin, Embarked에서 결측치 발견. NA에 대한 처리가 필요"
   ]
  },
  {
   "cell_type": "markdown",
   "metadata": {},
   "source": [
    "## 3. 데이터의 개별 속성 파악하기"
   ]
  },
  {
   "cell_type": "markdown",
   "metadata": {},
   "source": [
    "### 1. Survived Column"
   ]
  },
  {
   "cell_type": "code",
   "execution_count": 10,
   "metadata": {},
   "outputs": [
    {
     "data": {
      "text/plain": [
       "0    549\n",
       "1    342\n",
       "Name: Survived, dtype: int64"
      ]
     },
     "execution_count": 10,
     "metadata": {},
     "output_type": "execute_result"
    }
   ],
   "source": [
    "## 생존자, 사망자 명수는?\n",
    "\n",
    "titanic_df['Survived'].sum()\n",
    "titanic_df['Survived'].value_counts()"
   ]
  },
  {
   "cell_type": "code",
   "execution_count": 12,
   "metadata": {},
   "outputs": [
    {
     "data": {
      "text/plain": [
       "<matplotlib.axes._subplots.AxesSubplot at 0x1806cd917f0>"
      ]
     },
     "execution_count": 12,
     "metadata": {},
     "output_type": "execute_result"
    },
    {
     "data": {
      "image/png": "[encoded data removed]",
      "text/plain": [
       "<Figure size 432x288 with 1 Axes>"
      ]
     },
     "metadata": {
      "needs_background": "light"
     },
     "output_type": "display_data"
    }
   ],
   "source": [
    "## 생존자수와 사망자수를 Barplot으로 그려보기. sns.barplot()\n",
    "\n",
    "sns.countplot(x='Survived', data=titanic_df)"
   ]
  },
  {
   "cell_type": "markdown",
   "metadata": {},
   "source": [
    "### 2.Pclass"
   ]
  },
  {
   "cell_type": "code",
   "execution_count": 16,
   "metadata": {},
   "outputs": [
    {
     "data": {
      "text/html": [
       "<div>\n",
       "<style scoped>\n",
       "    .dataframe tbody tr th:only-of-type {\n",
       "        vertical-align: middle;\n",
       "    }\n",
       "\n",
       "    .dataframe tbody tr th {\n",
       "        vertical-align: top;\n",
       "    }\n",
       "\n",
       "    .dataframe thead th {\n",
       "        text-align: right;\n",
       "    }\n",
       "</style>\n",
       "<table border=\"1\" class=\"dataframe\">\n",
       "  <thead>\n",
       "    <tr style=\"text-align: right;\">\n",
       "      <th></th>\n",
       "      <th>Survived</th>\n",
       "    </tr>\n",
       "    <tr>\n",
       "      <th>Pclass</th>\n",
       "      <th></th>\n",
       "    </tr>\n",
       "  </thead>\n",
       "  <tbody>\n",
       "    <tr>\n",
       "      <th>1</th>\n",
       "      <td>216</td>\n",
       "    </tr>\n",
       "    <tr>\n",
       "      <th>2</th>\n",
       "      <td>184</td>\n",
       "    </tr>\n",
       "    <tr>\n",
       "      <th>3</th>\n",
       "      <td>491</td>\n",
       "    </tr>\n",
       "  </tbody>\n",
       "</table>\n",
       "</div>"
      ],
      "text/plain": [
       "        Survived\n",
       "Pclass          \n",
       "1            216\n",
       "2            184\n",
       "3            491"
      ]
     },
     "execution_count": 16,
     "metadata": {},
     "output_type": "execute_result"
    }
   ],
   "source": [
    "# Plcass 에 따른 생존/사망 인원 파악\n",
    "\n",
    "titanic_df[['Pclass', 'Survived']]\n",
    "\n",
    "titanic_df[['Pclass', 'Survived']].groupby(['Pclass']).count()"
   ]
  },
  {
   "cell_type": "code",
   "execution_count": 18,
   "metadata": {},
   "outputs": [
    {
     "data": {
      "text/html": [
       "<div>\n",
       "<style scoped>\n",
       "    .dataframe tbody tr th:only-of-type {\n",
       "        vertical-align: middle;\n",
       "    }\n",
       "\n",
       "    .dataframe tbody tr th {\n",
       "        vertical-align: top;\n",
       "    }\n",
       "\n",
       "    .dataframe thead th {\n",
       "        text-align: right;\n",
       "    }\n",
       "</style>\n",
       "<table border=\"1\" class=\"dataframe\">\n",
       "  <thead>\n",
       "    <tr style=\"text-align: right;\">\n",
       "      <th></th>\n",
       "      <th>Survived</th>\n",
       "    </tr>\n",
       "    <tr>\n",
       "      <th>Pclass</th>\n",
       "      <th></th>\n",
       "    </tr>\n",
       "  </thead>\n",
       "  <tbody>\n",
       "    <tr>\n",
       "      <th>1</th>\n",
       "      <td>136</td>\n",
       "    </tr>\n",
       "    <tr>\n",
       "      <th>2</th>\n",
       "      <td>87</td>\n",
       "    </tr>\n",
       "    <tr>\n",
       "      <th>3</th>\n",
       "      <td>119</td>\n",
       "    </tr>\n",
       "  </tbody>\n",
       "</table>\n",
       "</div>"
      ],
      "text/plain": [
       "        Survived\n",
       "Pclass          \n",
       "1            136\n",
       "2             87\n",
       "3            119"
      ]
     },
     "execution_count": 18,
     "metadata": {},
     "output_type": "execute_result"
    }
   ],
   "source": [
    "# Pclass에 따른 생존자 인원 파악\n",
    "\n",
    "titanic_df[['Pclass', 'Survived']].groupby(['Pclass']).sum() # 생존자가 1이므로 생존자의 수를 나타냄"
   ]
  },
  {
   "cell_type": "code",
   "execution_count": 19,
   "metadata": {},
   "outputs": [
    {
     "data": {
      "text/html": [
       "<div>\n",
       "<style scoped>\n",
       "    .dataframe tbody tr th:only-of-type {\n",
       "        vertical-align: middle;\n",
       "    }\n",
       "\n",
       "    .dataframe tbody tr th {\n",
       "        vertical-align: top;\n",
       "    }\n",
       "\n",
       "    .dataframe thead th {\n",
       "        text-align: right;\n",
       "    }\n",
       "</style>\n",
       "<table border=\"1\" class=\"dataframe\">\n",
       "  <thead>\n",
       "    <tr style=\"text-align: right;\">\n",
       "      <th></th>\n",
       "      <th>Survived</th>\n",
       "    </tr>\n",
       "    <tr>\n",
       "      <th>Pclass</th>\n",
       "      <th></th>\n",
       "    </tr>\n",
       "  </thead>\n",
       "  <tbody>\n",
       "    <tr>\n",
       "      <th>1</th>\n",
       "      <td>0.629630</td>\n",
       "    </tr>\n",
       "    <tr>\n",
       "      <th>2</th>\n",
       "      <td>0.472826</td>\n",
       "    </tr>\n",
       "    <tr>\n",
       "      <th>3</th>\n",
       "      <td>0.242363</td>\n",
       "    </tr>\n",
       "  </tbody>\n",
       "</table>\n",
       "</div>"
      ],
      "text/plain": [
       "        Survived\n",
       "Pclass          \n",
       "1       0.629630\n",
       "2       0.472826\n",
       "3       0.242363"
      ]
     },
     "execution_count": 19,
     "metadata": {},
     "output_type": "execute_result"
    }
   ],
   "source": [
    "# 생존자의 비율\n",
    "\n",
    "titanic_df[['Pclass', 'Survived']].groupby(['Pclass']).mean()"
   ]
  },
  {
   "cell_type": "code",
   "execution_count": 20,
   "metadata": {
    "scrolled": true
   },
   "outputs": [
    {
     "data": {
      "text/plain": [
       "[]"
      ]
     },
     "execution_count": 20,
     "metadata": {},
     "output_type": "execute_result"
    },
    {
     "data": {
      "image/png": "[encoded data removed]",
      "text/plain": [
       "<Figure size 432x288 with 2 Axes>"
      ]
     },
     "metadata": {
      "needs_background": "light"
     },
     "output_type": "display_data"
    }
   ],
   "source": [
    "## 히트맵의 활용\n",
    "\n",
    "sns.heatmap(titanic_df[['Pclass', 'Survived']].groupby(['Pclass']).mean())\n",
    "\n",
    "plt.plot()"
   ]
  },
  {
   "cell_type": "markdown",
   "metadata": {},
   "source": [
    "### 3. Sex"
   ]
  },
  {
   "cell_type": "code",
   "execution_count": 26,
   "metadata": {},
   "outputs": [
    {
     "data": {
      "text/plain": [
       "Survived  Sex   \n",
       "0         female     81\n",
       "          male      468\n",
       "1         female    233\n",
       "          male      109\n",
       "Name: Survived, dtype: int64"
      ]
     },
     "execution_count": 26,
     "metadata": {},
     "output_type": "execute_result"
    }
   ],
   "source": [
    "## 성별에 따른 생존/사망 인원\n",
    "\n",
    "titanic_df.groupby(['Survived', 'Sex'])\n",
    "\n",
    "titanic_df.groupby(['Survived', 'Sex']).count()\n",
    "\n",
    "titanic_df.groupby(['Survived', 'Sex'])['Survived'].count()"
   ]
  },
  {
   "cell_type": "code",
   "execution_count": 47,
   "metadata": {
    "scrolled": true
   },
   "outputs": [
    {
     "data": {
      "image/png": "[encoded data removed]",
      "text/plain": [
       "<Figure size 720x360 with 2 Axes>"
      ]
     },
     "metadata": {
      "needs_background": "light"
     },
     "output_type": "display_data"
    }
   ],
   "source": [
    "## sns.catplot\n",
    "\n",
    "sns.catplot(x='Sex', data=titanic_df, kind='count', col='Survived')\n",
    "\n",
    "plt.show()"
   ]
  },
  {
   "cell_type": "markdown",
   "metadata": {},
   "source": [
    "### 4. Age\n",
    "Remind: 결측치가 존재한다."
   ]
  },
  {
   "cell_type": "code",
   "execution_count": 53,
   "metadata": {},
   "outputs": [
    {
     "data": {
      "text/plain": [
       "count    714.000000\n",
       "mean      29.699118\n",
       "std       14.526497\n",
       "min        0.420000\n",
       "25%       20.125000\n",
       "50%       28.000000\n",
       "75%       38.000000\n",
       "max       80.000000\n",
       "Name: Age, dtype: float64"
      ]
     },
     "execution_count": 53,
     "metadata": {},
     "output_type": "execute_result"
    }
   ],
   "source": [
    "titanic_df.describe()['Age']"
   ]
  },
  {
   "cell_type": "code",
   "execution_count": 57,
   "metadata": {},
   "outputs": [
    {
     "data": {
      "text/plain": [
       "1      38.0\n",
       "2      26.0\n",
       "3      35.0\n",
       "8      27.0\n",
       "9      14.0\n",
       "       ... \n",
       "875    15.0\n",
       "879    56.0\n",
       "880    25.0\n",
       "887    19.0\n",
       "889    26.0\n",
       "Name: Age, Length: 342, dtype: float64"
      ]
     },
     "execution_count": 57,
     "metadata": {},
     "output_type": "execute_result"
    }
   ],
   "source": [
    "titanic_df[titanic_df.Survived == 1]['Age']"
   ]
  },
  {
   "cell_type": "code",
   "execution_count": 60,
   "metadata": {},
   "outputs": [
    {
     "data": {
      "image/png": "[encoded data removed]",
      "text/plain": [
       "<Figure size 720x360 with 1 Axes>"
      ]
     },
     "metadata": {
      "needs_background": "light"
     },
     "output_type": "display_data"
    }
   ],
   "source": [
    "## kernel density plot. Survived와 Age의 경향성\n",
    "\n",
    "## figure(그래프 도면) -> axis(좌표 틀) -> plot(틀 위에 그림)\n",
    "\n",
    "fig, ax = plt.subplots(1, 1, figsize=(10,5))\n",
    "\n",
    "sns.kdeplot(data=titanic_df[titanic_df.Survived == 1]['Age'], ax=ax)\n",
    "sns.kdeplot(data=titanic_df[titanic_df.Survived == 0]['Age'], ax=ax)\n",
    "\n",
    "plt.legend(['Survived', 'Dead'])\n",
    "plt.show()"
   ]
  },
  {
   "cell_type": "markdown",
   "metadata": {},
   "source": [
    "### Appendix 1. Sex + Pclass vs Survived"
   ]
  },
  {
   "cell_type": "code",
   "execution_count": 62,
   "metadata": {},
   "outputs": [
    {
     "data": {
      "image/png": "[encoded data removed]",
      "text/plain": [
       "<Figure size 430.5x360 with 1 Axes>"
      ]
     },
     "metadata": {
      "needs_background": "light"
     },
     "output_type": "display_data"
    }
   ],
   "source": [
    "# sns.catplot()\n",
    "\n",
    "sns.catplot(x='Pclass', y='Survived', kind='point', data=titanic_df, hue='Sex')\n",
    "\n",
    "plt.show()"
   ]
  },
  {
   "cell_type": "markdown",
   "metadata": {},
   "source": [
    "### Appendix 2. Age + Pclass vs Survived"
   ]
  },
  {
   "cell_type": "code",
   "execution_count": 67,
   "metadata": {},
   "outputs": [
    {
     "data": {
      "text/plain": [
       "<matplotlib.legend.Legend at 0x1806d9cb430>"
      ]
     },
     "execution_count": 67,
     "metadata": {},
     "output_type": "execute_result"
    },
    {
     "data": {
      "image/png": "[encoded data removed]",
      "text/plain": [
       "<Figure size 432x288 with 1 Axes>"
      ]
     },
     "metadata": {
      "needs_background": "light"
     },
     "output_type": "display_data"
    }
   ],
   "source": [
    "# sns.kdeplot()\n",
    "\n",
    "titanic_df['Age'][titanic_df.Pclass ==1].plot(kind='kde')\n",
    "titanic_df['Age'][titanic_df.Pclass ==2].plot(kind='kde')\n",
    "titanic_df['Age'][titanic_df.Pclass ==3].plot(kind='kde')\n",
    "\n",
    "plt.legend(['1st Class', '2nd Class', '3rd Class'])"
   ]
  },
  {
   "cell_type": "markdown",
   "metadata": {},
   "source": [
    "## Mission : It's Your Turn!\n",
    "\n",
    "### 1. 본문에서 언급된 Feature를 제외하고 유의미한 Feature를 1개 이상 찾아봅시다.\n",
    "\n",
    "- Hint : Fare? Sibsp? Parch?"
   ]
  },
  {
   "cell_type": "code",
   "execution_count": 69,
   "metadata": {
    "scrolled": true
   },
   "outputs": [
    {
     "data": {
      "text/html": [
       "<div>\n",
       "<style scoped>\n",
       "    .dataframe tbody tr th:only-of-type {\n",
       "        vertical-align: middle;\n",
       "    }\n",
       "\n",
       "    .dataframe tbody tr th {\n",
       "        vertical-align: top;\n",
       "    }\n",
       "\n",
       "    .dataframe thead th {\n",
       "        text-align: right;\n",
       "    }\n",
       "</style>\n",
       "<table border=\"1\" class=\"dataframe\">\n",
       "  <thead>\n",
       "    <tr style=\"text-align: right;\">\n",
       "      <th></th>\n",
       "      <th>PassengerId</th>\n",
       "      <th>Survived</th>\n",
       "      <th>Pclass</th>\n",
       "      <th>Age</th>\n",
       "      <th>SibSp</th>\n",
       "      <th>Parch</th>\n",
       "      <th>Fare</th>\n",
       "    </tr>\n",
       "  </thead>\n",
       "  <tbody>\n",
       "    <tr>\n",
       "      <th>PassengerId</th>\n",
       "      <td>1.000000</td>\n",
       "      <td>-0.005007</td>\n",
       "      <td>-0.035144</td>\n",
       "      <td>0.036847</td>\n",
       "      <td>-0.057527</td>\n",
       "      <td>-0.001652</td>\n",
       "      <td>0.012658</td>\n",
       "    </tr>\n",
       "    <tr>\n",
       "      <th>Survived</th>\n",
       "      <td>-0.005007</td>\n",
       "      <td>1.000000</td>\n",
       "      <td>-0.338481</td>\n",
       "      <td>-0.077221</td>\n",
       "      <td>-0.035322</td>\n",
       "      <td>0.081629</td>\n",
       "      <td>0.257307</td>\n",
       "    </tr>\n",
       "    <tr>\n",
       "      <th>Pclass</th>\n",
       "      <td>-0.035144</td>\n",
       "      <td>-0.338481</td>\n",
       "      <td>1.000000</td>\n",
       "      <td>-0.369226</td>\n",
       "      <td>0.083081</td>\n",
       "      <td>0.018443</td>\n",
       "      <td>-0.549500</td>\n",
       "    </tr>\n",
       "    <tr>\n",
       "      <th>Age</th>\n",
       "      <td>0.036847</td>\n",
       "      <td>-0.077221</td>\n",
       "      <td>-0.369226</td>\n",
       "      <td>1.000000</td>\n",
       "      <td>-0.308247</td>\n",
       "      <td>-0.189119</td>\n",
       "      <td>0.096067</td>\n",
       "    </tr>\n",
       "    <tr>\n",
       "      <th>SibSp</th>\n",
       "      <td>-0.057527</td>\n",
       "      <td>-0.035322</td>\n",
       "      <td>0.083081</td>\n",
       "      <td>-0.308247</td>\n",
       "      <td>1.000000</td>\n",
       "      <td>0.414838</td>\n",
       "      <td>0.159651</td>\n",
       "    </tr>\n",
       "    <tr>\n",
       "      <th>Parch</th>\n",
       "      <td>-0.001652</td>\n",
       "      <td>0.081629</td>\n",
       "      <td>0.018443</td>\n",
       "      <td>-0.189119</td>\n",
       "      <td>0.414838</td>\n",
       "      <td>1.000000</td>\n",
       "      <td>0.216225</td>\n",
       "    </tr>\n",
       "    <tr>\n",
       "      <th>Fare</th>\n",
       "      <td>0.012658</td>\n",
       "      <td>0.257307</td>\n",
       "      <td>-0.549500</td>\n",
       "      <td>0.096067</td>\n",
       "      <td>0.159651</td>\n",
       "      <td>0.216225</td>\n",
       "      <td>1.000000</td>\n",
       "    </tr>\n",
       "  </tbody>\n",
       "</table>\n",
       "</div>"
      ],
      "text/plain": [
       "             PassengerId  Survived    Pclass       Age     SibSp     Parch  \\\n",
       "PassengerId     1.000000 -0.005007 -0.035144  0.036847 -0.057527 -0.001652   \n",
       "Survived       -0.005007  1.000000 -0.338481 -0.077221 -0.035322  0.081629   \n",
       "Pclass         -0.035144 -0.338481  1.000000 -0.369226  0.083081  0.018443   \n",
       "Age             0.036847 -0.077221 -0.369226  1.000000 -0.308247 -0.189119   \n",
       "SibSp          -0.057527 -0.035322  0.083081 -0.308247  1.000000  0.414838   \n",
       "Parch          -0.001652  0.081629  0.018443 -0.189119  0.414838  1.000000   \n",
       "Fare            0.012658  0.257307 -0.549500  0.096067  0.159651  0.216225   \n",
       "\n",
       "                 Fare  \n",
       "PassengerId  0.012658  \n",
       "Survived     0.257307  \n",
       "Pclass      -0.549500  \n",
       "Age          0.096067  \n",
       "SibSp        0.159651  \n",
       "Parch        0.216225  \n",
       "Fare         1.000000  "
      ]
     },
     "execution_count": 69,
     "metadata": {},
     "output_type": "execute_result"
    }
   ],
   "source": [
    "## 상관계수 확인\n",
    "\n",
    "titanic_df.corr() # correlation은 Causation이 아니다\n",
    "\n",
    "# 상관성 : A up, B up, ... 같은 경향성\n",
    "# 인과성 : A -> B 같은 종속성"
   ]
  },
  {
   "cell_type": "markdown",
   "metadata": {},
   "source": [
    "세 가지 중 Survived와 관련이 큰 게 Fare가 가장 큰 연관성을 가지는것으로 보인다.  \n",
    "자료형은 float64이기 때문에, 통계적 연산이 가능하다.  \n",
    "Fare가 결측치를 가지고 있기 때문에, 보간할 필요가 있다."
   ]
  },
  {
   "cell_type": "markdown",
   "metadata": {},
   "source": [
    "### 2. [Kaggle](https://www.kaggle.com/datasets)에서 Dataset을 찾고, 이 Dataset에서 유의미한 Feature를 3개 이상 찾고 이를 시각화해봅시다.\n",
    "\n",
    "함께 보면 좋은 라이브러리 document\n",
    "- [numpy]()\n",
    "- [pandas]()\n",
    "- [seaborn]()\n",
    "- [matplotlib]()  \n",
    "\n",
    "선택한 데이터셋: [spotify song classification](https://www.kaggle.com/geomack/spotifyclassification)"
   ]
  },
  {
   "cell_type": "code",
   "execution_count": 1,
   "metadata": {},
   "outputs": [],
   "source": [
    "## 라이브러리 불러오기\n",
    "\n",
    "import numpy as np\n",
    "import pandas as pd\n",
    "import matplotlib.pyplot as plt\n",
    "import seaborn as sns\n",
    "\n",
    "%matplotlib inline"
   ]
  },
  {
   "cell_type": "markdown",
   "metadata": {},
   "source": [
    "#### 무대뽀로 하기 힘들다면? 다음 Hint와 함께 시도해봅시다:\n",
    "1. 데이터를 톺아봅시다.  \n",
    "    - 각 데이터는 어떤 자료형을 가지고 있나요?  \n",
    "    - 데이터에 **결측치**는 없나요? -> 있다면 이를 어떻게 메꿔줄까요?  \n",
    "    - 데이터의 자료형을 바꿔줄 필요가 있나요? -> 범주형의 One-hot encoding\n",
    "2. 데이터에 대한 가설을 세워봅시다.\n",
    "    - 가설은 개인의 경험에 의해서 도출되어도 상관이 없습니다.\n",
    "    - 가설은 명확할 수록 좋습니다 ex) *Titanic Data에서 Survival 여부와 성별에는 상관관계가 있다!*\n",
    "3. 가설을 검증하기 위한 증거를 찾아봅시다.\n",
    "    - 이 증거는 한 눈에 보이지 않을 수 있습니다. 우리가 다룬 여러 Technique를 써줘야합니다.  \n",
    "    - `.groupby()`를 통해서 그룹화된 정보에 통계량을 도입하면 어떨까요?\n",
    "    - `.merge()`를 통해서 두개 이상의 dataFrame을 합치면 어떨까요?\n",
    "    - 시각화를 통해 일목요연하게 보여주면 더욱 좋겠죠?"
   ]
  },
  {
   "cell_type": "code",
   "execution_count": 4,
   "metadata": {
    "scrolled": true
   },
   "outputs": [
    {
     "data": {
      "text/html": [
       "<div>\n",
       "<style scoped>\n",
       "    .dataframe tbody tr th:only-of-type {\n",
       "        vertical-align: middle;\n",
       "    }\n",
       "\n",
       "    .dataframe tbody tr th {\n",
       "        vertical-align: top;\n",
       "    }\n",
       "\n",
       "    .dataframe thead th {\n",
       "        text-align: right;\n",
       "    }\n",
       "</style>\n",
       "<table border=\"1\" class=\"dataframe\">\n",
       "  <thead>\n",
       "    <tr style=\"text-align: right;\">\n",
       "      <th></th>\n",
       "      <th>Unnamed: 0</th>\n",
       "      <th>acousticness</th>\n",
       "      <th>danceability</th>\n",
       "      <th>duration_ms</th>\n",
       "      <th>energy</th>\n",
       "      <th>instrumentalness</th>\n",
       "      <th>key</th>\n",
       "      <th>liveness</th>\n",
       "      <th>loudness</th>\n",
       "      <th>mode</th>\n",
       "      <th>speechiness</th>\n",
       "      <th>tempo</th>\n",
       "      <th>time_signature</th>\n",
       "      <th>valence</th>\n",
       "      <th>target</th>\n",
       "      <th>song_title</th>\n",
       "      <th>artist</th>\n",
       "    </tr>\n",
       "  </thead>\n",
       "  <tbody>\n",
       "    <tr>\n",
       "      <th>0</th>\n",
       "      <td>0</td>\n",
       "      <td>0.0102</td>\n",
       "      <td>0.833</td>\n",
       "      <td>204600</td>\n",
       "      <td>0.434</td>\n",
       "      <td>0.021900</td>\n",
       "      <td>2</td>\n",
       "      <td>0.1650</td>\n",
       "      <td>-8.795</td>\n",
       "      <td>1</td>\n",
       "      <td>0.4310</td>\n",
       "      <td>150.062</td>\n",
       "      <td>4.0</td>\n",
       "      <td>0.286</td>\n",
       "      <td>1</td>\n",
       "      <td>Mask Off</td>\n",
       "      <td>Future</td>\n",
       "    </tr>\n",
       "    <tr>\n",
       "      <th>1</th>\n",
       "      <td>1</td>\n",
       "      <td>0.1990</td>\n",
       "      <td>0.743</td>\n",
       "      <td>326933</td>\n",
       "      <td>0.359</td>\n",
       "      <td>0.006110</td>\n",
       "      <td>1</td>\n",
       "      <td>0.1370</td>\n",
       "      <td>-10.401</td>\n",
       "      <td>1</td>\n",
       "      <td>0.0794</td>\n",
       "      <td>160.083</td>\n",
       "      <td>4.0</td>\n",
       "      <td>0.588</td>\n",
       "      <td>1</td>\n",
       "      <td>Redbone</td>\n",
       "      <td>Childish Gambino</td>\n",
       "    </tr>\n",
       "    <tr>\n",
       "      <th>2</th>\n",
       "      <td>2</td>\n",
       "      <td>0.0344</td>\n",
       "      <td>0.838</td>\n",
       "      <td>185707</td>\n",
       "      <td>0.412</td>\n",
       "      <td>0.000234</td>\n",
       "      <td>2</td>\n",
       "      <td>0.1590</td>\n",
       "      <td>-7.148</td>\n",
       "      <td>1</td>\n",
       "      <td>0.2890</td>\n",
       "      <td>75.044</td>\n",
       "      <td>4.0</td>\n",
       "      <td>0.173</td>\n",
       "      <td>1</td>\n",
       "      <td>Xanny Family</td>\n",
       "      <td>Future</td>\n",
       "    </tr>\n",
       "    <tr>\n",
       "      <th>3</th>\n",
       "      <td>3</td>\n",
       "      <td>0.6040</td>\n",
       "      <td>0.494</td>\n",
       "      <td>199413</td>\n",
       "      <td>0.338</td>\n",
       "      <td>0.510000</td>\n",
       "      <td>5</td>\n",
       "      <td>0.0922</td>\n",
       "      <td>-15.236</td>\n",
       "      <td>1</td>\n",
       "      <td>0.0261</td>\n",
       "      <td>86.468</td>\n",
       "      <td>4.0</td>\n",
       "      <td>0.230</td>\n",
       "      <td>1</td>\n",
       "      <td>Master Of None</td>\n",
       "      <td>Beach House</td>\n",
       "    </tr>\n",
       "    <tr>\n",
       "      <th>4</th>\n",
       "      <td>4</td>\n",
       "      <td>0.1800</td>\n",
       "      <td>0.678</td>\n",
       "      <td>392893</td>\n",
       "      <td>0.561</td>\n",
       "      <td>0.512000</td>\n",
       "      <td>5</td>\n",
       "      <td>0.4390</td>\n",
       "      <td>-11.648</td>\n",
       "      <td>0</td>\n",
       "      <td>0.0694</td>\n",
       "      <td>174.004</td>\n",
       "      <td>4.0</td>\n",
       "      <td>0.904</td>\n",
       "      <td>1</td>\n",
       "      <td>Parallel Lines</td>\n",
       "      <td>Junior Boys</td>\n",
       "    </tr>\n",
       "  </tbody>\n",
       "</table>\n",
       "</div>"
      ],
      "text/plain": [
       "   Unnamed: 0  acousticness  danceability  duration_ms  energy  \\\n",
       "0           0        0.0102         0.833       204600   0.434   \n",
       "1           1        0.1990         0.743       326933   0.359   \n",
       "2           2        0.0344         0.838       185707   0.412   \n",
       "3           3        0.6040         0.494       199413   0.338   \n",
       "4           4        0.1800         0.678       392893   0.561   \n",
       "\n",
       "   instrumentalness  key  liveness  loudness  mode  speechiness    tempo  \\\n",
       "0          0.021900    2    0.1650    -8.795     1       0.4310  150.062   \n",
       "1          0.006110    1    0.1370   -10.401     1       0.0794  160.083   \n",
       "2          0.000234    2    0.1590    -7.148     1       0.2890   75.044   \n",
       "3          0.510000    5    0.0922   -15.236     1       0.0261   86.468   \n",
       "4          0.512000    5    0.4390   -11.648     0       0.0694  174.004   \n",
       "\n",
       "   time_signature  valence  target      song_title            artist  \n",
       "0             4.0    0.286       1        Mask Off            Future  \n",
       "1             4.0    0.588       1         Redbone  Childish Gambino  \n",
       "2             4.0    0.173       1    Xanny Family            Future  \n",
       "3             4.0    0.230       1  Master Of None       Beach House  \n",
       "4             4.0    0.904       1  Parallel Lines       Junior Boys  "
      ]
     },
     "execution_count": 4,
     "metadata": {},
     "output_type": "execute_result"
    }
   ],
   "source": [
    "df = pd.read_csv('song_attrib.csv')\n",
    "\n",
    "df.head()"
   ]
  },
  {
   "cell_type": "code",
   "execution_count": 7,
   "metadata": {},
   "outputs": [
    {
     "data": {
      "text/plain": [
       "Unnamed: 0            int64\n",
       "acousticness        float64\n",
       "danceability        float64\n",
       "duration_ms           int64\n",
       "energy              float64\n",
       "instrumentalness    float64\n",
       "key                   int64\n",
       "liveness            float64\n",
       "loudness            float64\n",
       "mode                  int64\n",
       "speechiness         float64\n",
       "tempo               float64\n",
       "time_signature      float64\n",
       "valence             float64\n",
       "target                int64\n",
       "song_title           object\n",
       "artist               object\n",
       "dtype: object"
      ]
     },
     "execution_count": 7,
     "metadata": {},
     "output_type": "execute_result"
    }
   ],
   "source": [
    "df.dtypes"
   ]
  },
  {
   "cell_type": "code",
   "execution_count": 5,
   "metadata": {
    "scrolled": true
   },
   "outputs": [
    {
     "data": {
      "text/html": [
       "<div>\n",
       "<style scoped>\n",
       "    .dataframe tbody tr th:only-of-type {\n",
       "        vertical-align: middle;\n",
       "    }\n",
       "\n",
       "    .dataframe tbody tr th {\n",
       "        vertical-align: top;\n",
       "    }\n",
       "\n",
       "    .dataframe thead th {\n",
       "        text-align: right;\n",
       "    }\n",
       "</style>\n",
       "<table border=\"1\" class=\"dataframe\">\n",
       "  <thead>\n",
       "    <tr style=\"text-align: right;\">\n",
       "      <th></th>\n",
       "      <th>Unnamed: 0</th>\n",
       "      <th>acousticness</th>\n",
       "      <th>danceability</th>\n",
       "      <th>duration_ms</th>\n",
       "      <th>energy</th>\n",
       "      <th>instrumentalness</th>\n",
       "      <th>key</th>\n",
       "      <th>liveness</th>\n",
       "      <th>loudness</th>\n",
       "      <th>mode</th>\n",
       "      <th>speechiness</th>\n",
       "      <th>tempo</th>\n",
       "      <th>time_signature</th>\n",
       "      <th>valence</th>\n",
       "      <th>target</th>\n",
       "    </tr>\n",
       "  </thead>\n",
       "  <tbody>\n",
       "    <tr>\n",
       "      <th>Unnamed: 0</th>\n",
       "      <td>1.000000</td>\n",
       "      <td>0.133055</td>\n",
       "      <td>-0.139615</td>\n",
       "      <td>-0.104185</td>\n",
       "      <td>-0.039880</td>\n",
       "      <td>-0.104641</td>\n",
       "      <td>-0.035611</td>\n",
       "      <td>-0.039962</td>\n",
       "      <td>0.021935</td>\n",
       "      <td>0.060639</td>\n",
       "      <td>-0.135362</td>\n",
       "      <td>-0.027890</td>\n",
       "      <td>-0.053235</td>\n",
       "      <td>-0.077812</td>\n",
       "      <td>-0.865969</td>\n",
       "    </tr>\n",
       "    <tr>\n",
       "      <th>acousticness</th>\n",
       "      <td>0.133055</td>\n",
       "      <td>1.000000</td>\n",
       "      <td>-0.179894</td>\n",
       "      <td>0.071536</td>\n",
       "      <td>-0.646319</td>\n",
       "      <td>0.144397</td>\n",
       "      <td>-0.081037</td>\n",
       "      <td>-0.117126</td>\n",
       "      <td>-0.562021</td>\n",
       "      <td>0.068028</td>\n",
       "      <td>-0.099893</td>\n",
       "      <td>-0.127596</td>\n",
       "      <td>-0.190353</td>\n",
       "      <td>-0.152227</td>\n",
       "      <td>-0.129627</td>\n",
       "    </tr>\n",
       "    <tr>\n",
       "      <th>danceability</th>\n",
       "      <td>-0.139615</td>\n",
       "      <td>-0.179894</td>\n",
       "      <td>1.000000</td>\n",
       "      <td>0.004695</td>\n",
       "      <td>0.038557</td>\n",
       "      <td>-0.130561</td>\n",
       "      <td>0.022325</td>\n",
       "      <td>-0.132044</td>\n",
       "      <td>0.104362</td>\n",
       "      <td>-0.047867</td>\n",
       "      <td>0.142661</td>\n",
       "      <td>-0.143538</td>\n",
       "      <td>0.128909</td>\n",
       "      <td>0.442061</td>\n",
       "      <td>0.176706</td>\n",
       "    </tr>\n",
       "    <tr>\n",
       "      <th>duration_ms</th>\n",
       "      <td>-0.104185</td>\n",
       "      <td>0.071536</td>\n",
       "      <td>0.004695</td>\n",
       "      <td>1.000000</td>\n",
       "      <td>-0.144473</td>\n",
       "      <td>0.305403</td>\n",
       "      <td>0.023570</td>\n",
       "      <td>0.023203</td>\n",
       "      <td>-0.273798</td>\n",
       "      <td>-0.074806</td>\n",
       "      <td>-0.079562</td>\n",
       "      <td>-0.076469</td>\n",
       "      <td>-0.040157</td>\n",
       "      <td>-0.120030</td>\n",
       "      <td>0.146749</td>\n",
       "    </tr>\n",
       "    <tr>\n",
       "      <th>energy</th>\n",
       "      <td>-0.039880</td>\n",
       "      <td>-0.646319</td>\n",
       "      <td>0.038557</td>\n",
       "      <td>-0.144473</td>\n",
       "      <td>1.000000</td>\n",
       "      <td>-0.122890</td>\n",
       "      <td>0.072886</td>\n",
       "      <td>0.217435</td>\n",
       "      <td>0.762177</td>\n",
       "      <td>-0.070263</td>\n",
       "      <td>0.093102</td>\n",
       "      <td>0.165721</td>\n",
       "      <td>0.182895</td>\n",
       "      <td>0.278383</td>\n",
       "      <td>0.039688</td>\n",
       "    </tr>\n",
       "    <tr>\n",
       "      <th>instrumentalness</th>\n",
       "      <td>-0.104641</td>\n",
       "      <td>0.144397</td>\n",
       "      <td>-0.130561</td>\n",
       "      <td>0.305403</td>\n",
       "      <td>-0.122890</td>\n",
       "      <td>1.000000</td>\n",
       "      <td>-0.009640</td>\n",
       "      <td>0.001063</td>\n",
       "      <td>-0.354625</td>\n",
       "      <td>-0.030099</td>\n",
       "      <td>-0.155349</td>\n",
       "      <td>0.000347</td>\n",
       "      <td>-0.070721</td>\n",
       "      <td>-0.194630</td>\n",
       "      <td>0.152594</td>\n",
       "    </tr>\n",
       "    <tr>\n",
       "      <th>key</th>\n",
       "      <td>-0.035611</td>\n",
       "      <td>-0.081037</td>\n",
       "      <td>0.022325</td>\n",
       "      <td>0.023570</td>\n",
       "      <td>0.072886</td>\n",
       "      <td>-0.009640</td>\n",
       "      <td>1.000000</td>\n",
       "      <td>0.049739</td>\n",
       "      <td>0.050929</td>\n",
       "      <td>-0.195040</td>\n",
       "      <td>0.019116</td>\n",
       "      <td>0.040301</td>\n",
       "      <td>0.024937</td>\n",
       "      <td>0.032485</td>\n",
       "      <td>0.033594</td>\n",
       "    </tr>\n",
       "    <tr>\n",
       "      <th>liveness</th>\n",
       "      <td>-0.039962</td>\n",
       "      <td>-0.117126</td>\n",
       "      <td>-0.132044</td>\n",
       "      <td>0.023203</td>\n",
       "      <td>0.217435</td>\n",
       "      <td>0.001063</td>\n",
       "      <td>0.049739</td>\n",
       "      <td>1.000000</td>\n",
       "      <td>0.156648</td>\n",
       "      <td>-0.018587</td>\n",
       "      <td>0.092403</td>\n",
       "      <td>0.010558</td>\n",
       "      <td>0.018199</td>\n",
       "      <td>-0.053011</td>\n",
       "      <td>0.026364</td>\n",
       "    </tr>\n",
       "    <tr>\n",
       "      <th>loudness</th>\n",
       "      <td>0.021935</td>\n",
       "      <td>-0.562021</td>\n",
       "      <td>0.104362</td>\n",
       "      <td>-0.273798</td>\n",
       "      <td>0.762177</td>\n",
       "      <td>-0.354625</td>\n",
       "      <td>0.050929</td>\n",
       "      <td>0.156648</td>\n",
       "      <td>1.000000</td>\n",
       "      <td>-0.044015</td>\n",
       "      <td>0.088844</td>\n",
       "      <td>0.156418</td>\n",
       "      <td>0.143011</td>\n",
       "      <td>0.204968</td>\n",
       "      <td>-0.072000</td>\n",
       "    </tr>\n",
       "    <tr>\n",
       "      <th>mode</th>\n",
       "      <td>0.060639</td>\n",
       "      <td>0.068028</td>\n",
       "      <td>-0.047867</td>\n",
       "      <td>-0.074806</td>\n",
       "      <td>-0.070263</td>\n",
       "      <td>-0.030099</td>\n",
       "      <td>-0.195040</td>\n",
       "      <td>-0.018587</td>\n",
       "      <td>-0.044015</td>\n",
       "      <td>1.000000</td>\n",
       "      <td>-0.049398</td>\n",
       "      <td>-0.059995</td>\n",
       "      <td>-0.039038</td>\n",
       "      <td>-0.032879</td>\n",
       "      <td>-0.072336</td>\n",
       "    </tr>\n",
       "    <tr>\n",
       "      <th>speechiness</th>\n",
       "      <td>-0.135362</td>\n",
       "      <td>-0.099893</td>\n",
       "      <td>0.142661</td>\n",
       "      <td>-0.079562</td>\n",
       "      <td>0.093102</td>\n",
       "      <td>-0.155349</td>\n",
       "      <td>0.019116</td>\n",
       "      <td>0.092403</td>\n",
       "      <td>0.088844</td>\n",
       "      <td>-0.049398</td>\n",
       "      <td>1.000000</td>\n",
       "      <td>0.111359</td>\n",
       "      <td>0.113529</td>\n",
       "      <td>0.054419</td>\n",
       "      <td>0.154006</td>\n",
       "    </tr>\n",
       "    <tr>\n",
       "      <th>tempo</th>\n",
       "      <td>-0.027890</td>\n",
       "      <td>-0.127596</td>\n",
       "      <td>-0.143538</td>\n",
       "      <td>-0.076469</td>\n",
       "      <td>0.165721</td>\n",
       "      <td>0.000347</td>\n",
       "      <td>0.040301</td>\n",
       "      <td>0.010558</td>\n",
       "      <td>0.156418</td>\n",
       "      <td>-0.059995</td>\n",
       "      <td>0.111359</td>\n",
       "      <td>1.000000</td>\n",
       "      <td>-0.055918</td>\n",
       "      <td>-0.014965</td>\n",
       "      <td>0.034732</td>\n",
       "    </tr>\n",
       "    <tr>\n",
       "      <th>time_signature</th>\n",
       "      <td>-0.053235</td>\n",
       "      <td>-0.190353</td>\n",
       "      <td>0.128909</td>\n",
       "      <td>-0.040157</td>\n",
       "      <td>0.182895</td>\n",
       "      <td>-0.070721</td>\n",
       "      <td>0.024937</td>\n",
       "      <td>0.018199</td>\n",
       "      <td>0.143011</td>\n",
       "      <td>-0.039038</td>\n",
       "      <td>0.113529</td>\n",
       "      <td>-0.055918</td>\n",
       "      <td>1.000000</td>\n",
       "      <td>0.134722</td>\n",
       "      <td>0.040182</td>\n",
       "    </tr>\n",
       "    <tr>\n",
       "      <th>valence</th>\n",
       "      <td>-0.077812</td>\n",
       "      <td>-0.152227</td>\n",
       "      <td>0.442061</td>\n",
       "      <td>-0.120030</td>\n",
       "      <td>0.278383</td>\n",
       "      <td>-0.194630</td>\n",
       "      <td>0.032485</td>\n",
       "      <td>-0.053011</td>\n",
       "      <td>0.204968</td>\n",
       "      <td>-0.032879</td>\n",
       "      <td>0.054419</td>\n",
       "      <td>-0.014965</td>\n",
       "      <td>0.134722</td>\n",
       "      <td>1.000000</td>\n",
       "      <td>0.107930</td>\n",
       "    </tr>\n",
       "    <tr>\n",
       "      <th>target</th>\n",
       "      <td>-0.865969</td>\n",
       "      <td>-0.129627</td>\n",
       "      <td>0.176706</td>\n",
       "      <td>0.146749</td>\n",
       "      <td>0.039688</td>\n",
       "      <td>0.152594</td>\n",
       "      <td>0.033594</td>\n",
       "      <td>0.026364</td>\n",
       "      <td>-0.072000</td>\n",
       "      <td>-0.072336</td>\n",
       "      <td>0.154006</td>\n",
       "      <td>0.034732</td>\n",
       "      <td>0.040182</td>\n",
       "      <td>0.107930</td>\n",
       "      <td>1.000000</td>\n",
       "    </tr>\n",
       "  </tbody>\n",
       "</table>\n",
       "</div>"
      ],
      "text/plain": [
       "                  Unnamed: 0  acousticness  danceability  duration_ms  \\\n",
       "Unnamed: 0          1.000000      0.133055     -0.139615    -0.104185   \n",
       "acousticness        0.133055      1.000000     -0.179894     0.071536   \n",
       "danceability       -0.139615     -0.179894      1.000000     0.004695   \n",
       "duration_ms        -0.104185      0.071536      0.004695     1.000000   \n",
       "energy             -0.039880     -0.646319      0.038557    -0.144473   \n",
       "instrumentalness   -0.104641      0.144397     -0.130561     0.305403   \n",
       "key                -0.035611     -0.081037      0.022325     0.023570   \n",
       "liveness           -0.039962     -0.117126     -0.132044     0.023203   \n",
       "loudness            0.021935     -0.562021      0.104362    -0.273798   \n",
       "mode                0.060639      0.068028     -0.047867    -0.074806   \n",
       "speechiness        -0.135362     -0.099893      0.142661    -0.079562   \n",
       "tempo              -0.027890     -0.127596     -0.143538    -0.076469   \n",
       "time_signature     -0.053235     -0.190353      0.128909    -0.040157   \n",
       "valence            -0.077812     -0.152227      0.442061    -0.120030   \n",
       "target             -0.865969     -0.129627      0.176706     0.146749   \n",
       "\n",
       "                    energy  instrumentalness       key  liveness  loudness  \\\n",
       "Unnamed: 0       -0.039880         -0.104641 -0.035611 -0.039962  0.021935   \n",
       "acousticness     -0.646319          0.144397 -0.081037 -0.117126 -0.562021   \n",
       "danceability      0.038557         -0.130561  0.022325 -0.132044  0.104362   \n",
       "duration_ms      -0.144473          0.305403  0.023570  0.023203 -0.273798   \n",
       "energy            1.000000         -0.122890  0.072886  0.217435  0.762177   \n",
       "instrumentalness -0.122890          1.000000 -0.009640  0.001063 -0.354625   \n",
       "key               0.072886         -0.009640  1.000000  0.049739  0.050929   \n",
       "liveness          0.217435          0.001063  0.049739  1.000000  0.156648   \n",
       "loudness          0.762177         -0.354625  0.050929  0.156648  1.000000   \n",
       "mode             -0.070263         -0.030099 -0.195040 -0.018587 -0.044015   \n",
       "speechiness       0.093102         -0.155349  0.019116  0.092403  0.088844   \n",
       "tempo             0.165721          0.000347  0.040301  0.010558  0.156418   \n",
       "time_signature    0.182895         -0.070721  0.024937  0.018199  0.143011   \n",
       "valence           0.278383         -0.194630  0.032485 -0.053011  0.204968   \n",
       "target            0.039688          0.152594  0.033594  0.026364 -0.072000   \n",
       "\n",
       "                      mode  speechiness     tempo  time_signature   valence  \\\n",
       "Unnamed: 0        0.060639    -0.135362 -0.027890       -0.053235 -0.077812   \n",
       "acousticness      0.068028    -0.099893 -0.127596       -0.190353 -0.152227   \n",
       "danceability     -0.047867     0.142661 -0.143538        0.128909  0.442061   \n",
       "duration_ms      -0.074806    -0.079562 -0.076469       -0.040157 -0.120030   \n",
       "energy           -0.070263     0.093102  0.165721        0.182895  0.278383   \n",
       "instrumentalness -0.030099    -0.155349  0.000347       -0.070721 -0.194630   \n",
       "key              -0.195040     0.019116  0.040301        0.024937  0.032485   \n",
       "liveness         -0.018587     0.092403  0.010558        0.018199 -0.053011   \n",
       "loudness         -0.044015     0.088844  0.156418        0.143011  0.204968   \n",
       "mode              1.000000    -0.049398 -0.059995       -0.039038 -0.032879   \n",
       "speechiness      -0.049398     1.000000  0.111359        0.113529  0.054419   \n",
       "tempo            -0.059995     0.111359  1.000000       -0.055918 -0.014965   \n",
       "time_signature   -0.039038     0.113529 -0.055918        1.000000  0.134722   \n",
       "valence          -0.032879     0.054419 -0.014965        0.134722  1.000000   \n",
       "target           -0.072336     0.154006  0.034732        0.040182  0.107930   \n",
       "\n",
       "                    target  \n",
       "Unnamed: 0       -0.865969  \n",
       "acousticness     -0.129627  \n",
       "danceability      0.176706  \n",
       "duration_ms       0.146749  \n",
       "energy            0.039688  \n",
       "instrumentalness  0.152594  \n",
       "key               0.033594  \n",
       "liveness          0.026364  \n",
       "loudness         -0.072000  \n",
       "mode             -0.072336  \n",
       "speechiness       0.154006  \n",
       "tempo             0.034732  \n",
       "time_signature    0.040182  \n",
       "valence           0.107930  \n",
       "target            1.000000  "
      ]
     },
     "execution_count": 5,
     "metadata": {},
     "output_type": "execute_result"
    }
   ],
   "source": [
    "df.corr()"
   ]
  },
  {
   "cell_type": "markdown",
   "metadata": {},
   "source": [
    "위의 값들 중, 우리가 원하는 건 target의 값이 0인지 1인지 추정하는 것이다.  \n",
    "그러므로, target과의 correlation을 확인했을 때, 관련성이 큰 값들을 확인해보자."
   ]
  },
  {
   "cell_type": "code",
   "execution_count": 28,
   "metadata": {
    "scrolled": true
   },
   "outputs": [
    {
     "data": {
      "text/plain": [
       "Unnamed: 0         -0.865969\n",
       "acousticness       -0.129627\n",
       "danceability        0.176706\n",
       "duration_ms         0.146749\n",
       "energy              0.039688\n",
       "instrumentalness    0.152594\n",
       "key                 0.033594\n",
       "liveness            0.026364\n",
       "loudness           -0.072000\n",
       "mode               -0.072336\n",
       "speechiness         0.154006\n",
       "tempo               0.034732\n",
       "time_signature      0.040182\n",
       "valence             0.107930\n",
       "target              1.000000\n",
       "Name: target, dtype: float64"
      ]
     },
     "execution_count": 28,
     "metadata": {},
     "output_type": "execute_result"
    }
   ],
   "source": [
    "df.corr()['target']"
   ]
  },
  {
   "cell_type": "markdown",
   "metadata": {},
   "source": [
    "이 중에서 0.1을 넘어가는 특징값을 골라보면  \n",
    "- acousticness(-0.130)  \n",
    "- daceability(0.177)  \n",
    "- duration_ms(0.146)  \n",
    "- instrumentalness (0.153)  \n",
    "- speechiness(0.154)  \n",
    "- valence(0.108)  \n",
    "\n",
    "정도가 있다."
   ]
  },
  {
   "cell_type": "code",
   "execution_count": 32,
   "metadata": {
    "scrolled": false
   },
   "outputs": [],
   "source": [
    "# sns.kdeplot()\n",
    "# plt.bar(x, y)\n",
    "# plt.hist(y, bins)\n",
    "# plt.pie(data, labels=[])\n",
    "# sns.countplot(x=data)\n",
    "# s = sns.catplot(x, y, data, #kind)\n",
    "# s.fig.set_size_inches(10, 3)\n",
    "# sns.heatmap(data.corr())"
   ]
  },
  {
   "cell_type": "markdown",
   "metadata": {},
   "source": [
    "## danceability와 target의 correlation"
   ]
  },
  {
   "cell_type": "code",
   "execution_count": 67,
   "metadata": {},
   "outputs": [
    {
     "data": {
      "image/png": "[encoded data removed]",
      "text/plain": [
       "<Figure size 432x288 with 1 Axes>"
      ]
     },
     "metadata": {
      "needs_background": "light"
     },
     "output_type": "display_data"
    }
   ],
   "source": [
    "# ms_to_sec = [t // 1000 for t in df['duration_ms'][df['target']==0]]\n",
    "# df['danceability'][df['target']==1][df['danceability']>0.5].plot(kind='kde')\n",
    "# df['danceability'][df['target']==0][df['danceability']>0.5].plot(kind='kde')\n",
    "\n",
    "df['danceability'][df['target']==1].plot(kind='kde')\n",
    "df['danceability'][df['target']==0].plot(kind='kde')\n",
    "\n",
    "plt.title('danceability is bigger?')\n",
    "plt.axis([0.0, 1.5, 0, 3.0])\n",
    "plt.legend(['like', 'diskike'])\n",
    "plt.show()"
   ]
  },
  {
   "cell_type": "markdown",
   "metadata": {},
   "source": [
    "결과를 보았을 때, danceability에 대해  \n",
    "- 0.6에 가깝거나 그보다 낮으면 노래가 싫을 확률이 높다\n",
    "- 0.8에 가깝거나 그보다 높으면 노래가 좋을 확률이 높다.  \n",
    "이 데이터는 개인의 취향이 반영되어있기 때문에, 이 데이터로 보면 danceability가 높으면 노래를 좋아할 확률이 더 높아지는데, 그 기준이 약 0.7 내외인 것으로 보인다."
   ]
  },
  {
   "cell_type": "markdown",
   "metadata": {},
   "source": [
    "## instrumentalness와 target의 correlation"
   ]
  },
  {
   "cell_type": "code",
   "execution_count": 107,
   "metadata": {},
   "outputs": [
    {
     "data": {
      "text/plain": [
       "<AxesSubplot:xlabel='target', ylabel='count'>"
      ]
     },
     "execution_count": 107,
     "metadata": {},
     "output_type": "execute_result"
    },
    {
     "data": {
      "image/png": "[encoded data removed]",
      "text/plain": [
       "<Figure size 432x288 with 1 Axes>"
      ]
     },
     "metadata": {
      "needs_background": "light"
     },
     "output_type": "display_data"
    }
   ],
   "source": [
    "sns.countplot(x='target', data=df[df['instrumentalness']>0.05])"
   ]
  },
  {
   "cell_type": "markdown",
   "metadata": {},
   "source": [
    "위의 결과를 봤을 떄, instrumentalness가 높은 것들에 대해서는 like의 비율이 더 높다."
   ]
  },
  {
   "cell_type": "code",
   "execution_count": 104,
   "metadata": {
    "scrolled": true
   },
   "outputs": [
    {
     "data": {
      "text/plain": [
       "<AxesSubplot:xlabel='target', ylabel='count'>"
      ]
     },
     "execution_count": 104,
     "metadata": {},
     "output_type": "execute_result"
    },
    {
     "data": {
      "image/png": "[encoded data removed]",
      "text/plain": [
       "<Figure size 432x288 with 1 Axes>"
      ]
     },
     "metadata": {
      "needs_background": "light"
     },
     "output_type": "display_data"
    }
   ],
   "source": [
    "sns.countplot(x='target', data=df[df['instrumentalness']<0.001])"
   ]
  },
  {
   "cell_type": "markdown",
   "metadata": {},
   "source": [
    "그리고 그 아래의 매우 작은 0.001, 즉 instrumentalness가 낮아질 경우, dislike의 비율이 더 높다."
   ]
  },
  {
   "cell_type": "code",
   "execution_count": 111,
   "metadata": {
    "scrolled": false
   },
   "outputs": [
    {
     "data": {
      "text/plain": [
       "(-0.2, 0.2, 0.0, 6.0)"
      ]
     },
     "execution_count": 111,
     "metadata": {},
     "output_type": "execute_result"
    },
    {
     "data": {
      "image/png": "[encoded data removed]",
      "text/plain": [
       "<Figure size 432x288 with 1 Axes>"
      ]
     },
     "metadata": {
      "needs_background": "light"
     },
     "output_type": "display_data"
    }
   ],
   "source": [
    "df['instrumentalness'][df['target']==0].plot(kind='kde')\n",
    "df['instrumentalness'][df['target']==1].plot(kind='kde')\n",
    "plt.title('instrumentalness')\n",
    "plt.legend(['dislike','like'])\n",
    "plt.axis([-0.2, 0.2, 0, 6])"
   ]
  },
  {
   "cell_type": "markdown",
   "metadata": {},
   "source": [
    "이 그림이 위의 것보다는 0에 가까운 경우를 더 잘 보여줄 것이다."
   ]
  },
  {
   "cell_type": "code",
   "execution_count": 115,
   "metadata": {
    "scrolled": true
   },
   "outputs": [
    {
     "data": {
      "text/plain": [
       "(0.75, 1.0, 0.0, 0.6)"
      ]
     },
     "execution_count": 115,
     "metadata": {},
     "output_type": "execute_result"
    },
    {
     "data": {
      "image/png": "[encoded data removed]",
      "text/plain": [
       "<Figure size 432x288 with 1 Axes>"
      ]
     },
     "metadata": {
      "needs_background": "light"
     },
     "output_type": "display_data"
    }
   ],
   "source": [
    "df['instrumentalness'][df['target']==0].plot(kind='kde')\n",
    "df['instrumentalness'][df['target']==1].plot(kind='kde')\n",
    "plt.title('instrumentalness')\n",
    "plt.legend(['dislike','like'])\n",
    "plt.axis([0.75, 1.0, 0, 0.6])"
   ]
  },
  {
   "cell_type": "markdown",
   "metadata": {},
   "source": [
    "그리고 이 그림이 0.5를 넘는 큰 경우를 더 잘 보여줄 것이다."
   ]
  },
  {
   "cell_type": "markdown",
   "metadata": {},
   "source": [
    "## speechiness와 target의 correlation"
   ]
  },
  {
   "cell_type": "code",
   "execution_count": 128,
   "metadata": {},
   "outputs": [
    {
     "data": {
      "image/png": "[encoded data removed]",
      "text/plain": [
       "<Figure size 432x288 with 1 Axes>"
      ]
     },
     "metadata": {
      "needs_background": "light"
     },
     "output_type": "display_data"
    }
   ],
   "source": [
    "df['speechiness'][df['target']==0].plot(kind='kde')\n",
    "df['speechiness'][df['target']==1].plot(kind='kde')\n",
    "\n",
    "plt.title('speechiness')\n",
    "plt.legend(['dislike','like'])\n",
    "plt.show()"
   ]
  },
  {
   "cell_type": "code",
   "execution_count": 129,
   "metadata": {},
   "outputs": [
    {
     "data": {
      "image/png": "[encoded data removed]",
      "text/plain": [
       "<Figure size 432x288 with 1 Axes>"
      ]
     },
     "metadata": {
      "needs_background": "light"
     },
     "output_type": "display_data"
    }
   ],
   "source": [
    "df['speechiness'][df['target']==0].plot(kind='kde')\n",
    "df['speechiness'][df['target']==1].plot(kind='kde')\n",
    "\n",
    "plt.axis([-0.05, 0.1, 0, 15])\n",
    "\n",
    "plt.title('speechiness')\n",
    "plt.legend(['dislike','like'])\n",
    "plt.show()"
   ]
  },
  {
   "cell_type": "code",
   "execution_count": 130,
   "metadata": {
    "scrolled": true
   },
   "outputs": [
    {
     "data": {
      "image/png": "[encoded data removed]",
      "text/plain": [
       "<Figure size 432x288 with 1 Axes>"
      ]
     },
     "metadata": {
      "needs_background": "light"
     },
     "output_type": "display_data"
    }
   ],
   "source": [
    "df['speechiness'][df['target']==0].plot(kind='kde')\n",
    "df['speechiness'][df['target']==1].plot(kind='kde')\n",
    "\n",
    "plt.axis([0.1, 0.5, 0, 6])\n",
    "\n",
    "plt.title('speechiness')\n",
    "plt.legend(['dislike','like'])\n",
    "plt.show()"
   ]
  },
  {
   "cell_type": "markdown",
   "metadata": {},
   "source": [
    "이 그림에서 봤을 때,  \n",
    "- speechiness가 0.06보다 낮으면 dislike의 비율이 더 높고, \n",
    "- speechiness가 0.15보다 높으면 like의 비율이 더 높다."
   ]
  }
 ],
 "metadata": {
  "kernelspec": {
   "display_name": "Python 3",
   "language": "python",
   "name": "python3"
  },
  "language_info": {
   "codemirror_mode": {
    "name": "ipython",
    "version": 3
   },
   "file_extension": ".py",
   "mimetype": "text/x-python",
   "name": "python",
   "nbconvert_exporter": "python",
   "pygments_lexer": "ipython3",
   "version": "3.9.4"
  }
 },
 "nbformat": 4,
 "nbformat_minor": 4
}
